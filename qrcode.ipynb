{
 "cells": [
  {
   "cell_type": "markdown",
   "id": "21e0d9ac-bb2c-4b45-b6a1-fe0ee8872677",
   "metadata": {},
   "source": [
    "QR CODE Generator"
   ]
  },
  {
   "cell_type": "code",
   "execution_count": 1,
   "id": "87ad702c-6650-4fb9-9a9b-06ebd85c0b1b",
   "metadata": {},
   "outputs": [],
   "source": [
    "import qrcode as qr"
   ]
  },
  {
   "cell_type": "code",
   "execution_count": 8,
   "id": "142e8565-c639-4fc3-8cd4-f86368bec1f0",
   "metadata": {},
   "outputs": [],
   "source": [
    "img=qr.make(\"https://vanshsadadiwala.github.io/portfolio_website/\")"
   ]
  },
  {
   "cell_type": "code",
   "execution_count": 3,
   "id": "a6a16529-b336-4da4-b169-7c9f7f35ab9b",
   "metadata": {},
   "outputs": [],
   "source": [
    "img.save(\"portfoliowebsite.jpg\")"
   ]
  }
 ],
 "metadata": {
  "kernelspec": {
   "display_name": "Python 3 (ipykernel)",
   "language": "python",
   "name": "python3"
  },
  "language_info": {
   "codemirror_mode": {
    "name": "ipython",
    "version": 3
   },
   "file_extension": ".py",
   "mimetype": "text/x-python",
   "name": "python",
   "nbconvert_exporter": "python",
   "pygments_lexer": "ipython3",
   "version": "3.12.4"
  }
 },
 "nbformat": 4,
 "nbformat_minor": 5
}
